{
 "cells": [
  {
   "cell_type": "code",
   "execution_count": 10,
   "id": "112585a1",
   "metadata": {},
   "outputs": [],
   "source": [
    "library(tidyverse)"
   ]
  },
  {
   "cell_type": "code",
   "execution_count": 12,
   "id": "e7c4cc68",
   "metadata": {},
   "outputs": [
    {
     "name": "stderr",
     "output_type": "stream",
     "text": [
      "\u001b[1mRows: \u001b[22m\u001b[34m120\u001b[39m \u001b[1mColumns: \u001b[22m\u001b[34m10\u001b[39m\n",
      "\n",
      "\u001b[36m──\u001b[39m \u001b[1mColumn specification\u001b[22m \u001b[36m─────────────────────────────────────────────────────────────────────────────────────────────────────────────────────\u001b[39m\n",
      "\u001b[1mDelimiter:\u001b[22m \",\"\n",
      "\u001b[31mchr\u001b[39m (7): Data_source, Reference number, Product_category_new, Product_desc, ...\n",
      "\u001b[32mdbl\u001b[39m (3): Year, Or_transparency_index, Or_foodsafety_index\n",
      "\n",
      "\n",
      "\u001b[36mℹ\u001b[39m Use \u001b[30m\u001b[47m\u001b[30m\u001b[47m`spec()`\u001b[47m\u001b[30m\u001b[49m\u001b[39m to retrieve the full column specification for this data.\n",
      "\u001b[36mℹ\u001b[39m Specify the column types or set \u001b[30m\u001b[47m\u001b[30m\u001b[47m`show_col_types = FALSE`\u001b[47m\u001b[30m\u001b[49m\u001b[39m to quiet this message.\n",
      "\n",
      "\u001b[1mRows: \u001b[22m\u001b[34m7\u001b[39m \u001b[1mColumns: \u001b[22m\u001b[34m2\u001b[39m\n",
      "\n",
      "\u001b[36m──\u001b[39m \u001b[1mColumn specification\u001b[22m \u001b[36m─────────────────────────────────────────────────────────────────────────────────────────────────────────────────────\u001b[39m\n",
      "\u001b[1mDelimiter:\u001b[22m \",\"\n",
      "\u001b[31mchr\u001b[39m (2): Product_fraudtype, Product_fraudtype_new\n",
      "\n",
      "\n",
      "\u001b[36mℹ\u001b[39m Use \u001b[30m\u001b[47m\u001b[30m\u001b[47m`spec()`\u001b[47m\u001b[30m\u001b[49m\u001b[39m to retrieve the full column specification for this data.\n",
      "\u001b[36mℹ\u001b[39m Specify the column types or set \u001b[30m\u001b[47m\u001b[30m\u001b[47m`show_col_types = FALSE`\u001b[47m\u001b[30m\u001b[49m\u001b[39m to quiet this message.\n",
      "\n",
      "\u001b[1mRows: \u001b[22m\u001b[34m261\u001b[39m \u001b[1mColumns: \u001b[22m\u001b[34m4\u001b[39m\n",
      "\n",
      "\u001b[36m──\u001b[39m \u001b[1mColumn specification\u001b[22m \u001b[36m─────────────────────────────────────────────────────────────────────────────────────────────────────────────────────\u001b[39m\n",
      "\u001b[1mDelimiter:\u001b[22m \",\"\n",
      "\u001b[31mchr\u001b[39m (4): row ID, ISO3, Country, ISO2\n",
      "\n",
      "\n",
      "\u001b[36mℹ\u001b[39m Use \u001b[30m\u001b[47m\u001b[30m\u001b[47m`spec()`\u001b[47m\u001b[30m\u001b[49m\u001b[39m to retrieve the full column specification for this data.\n",
      "\u001b[36mℹ\u001b[39m Specify the column types or set \u001b[30m\u001b[47m\u001b[30m\u001b[47m`show_col_types = FALSE`\u001b[47m\u001b[30m\u001b[49m\u001b[39m to quiet this message.\n",
      "\n",
      "Joining, by = \"Product_fraudtype\"\n",
      "\n"
     ]
    }
   ],
   "source": [
    "EMA_120_row<-read_csv(\"./data/input/LUMCNode_EMA.csv\")\n",
    "Fraudtype_match<-read_csv(\"./data/input/Match fraudtype between two files.csv\")\n",
    "Country_abb_match<-read_csv(\"./data/input/country_dic.csv\")\n",
    "\n",
    "Country_abb_match<-Country_abb_match %>% select(ISO3,Country) %>% filter(Country!=\"Viet Nam\",Country!=\"Taiwan, Province of China\",Country!=\"Iran, Islamic Republic of\")\n",
    "\n",
    "\n",
    "\n",
    "EMA_95_row<-EMA_120_row %>% filter(is.na(Product_fraudtype)==FALSE) %>% filter(Product_fraudtype!=\"Intentional Distribution of Contaminated Product\")\n",
    "\n",
    "EMA_95_row<- inner_join(EMA_95_row,Fraudtype_match) \n",
    "\n",
    "EMA_95_row<-inner_join(EMA_95_row,Country_abb_match,by=c(\"Or_country-iso3\"=\"ISO3\")) \n",
    "\n",
    "\n",
    "EMA_95_row<-EMA_95_row %>% select(Data_source,Product_category_new,Year, Country,Product_fraudtype_new) %>% \n",
    "rename(Product_category=Product_category_new,Product_fraudtype=Product_fraudtype_new,`Or_country-name`=Country) %>% \n",
    "  mutate(`Ct_country-name`=\"United States\") %>% relocate(`Ct_country-name`, .before =Product_fraudtype)\n"
   ]
  },
  {
   "cell_type": "code",
   "execution_count": 13,
   "id": "4b4a7154",
   "metadata": {},
   "outputs": [
    {
     "name": "stderr",
     "output_type": "stream",
     "text": [
      "\u001b[1mRows: \u001b[22m\u001b[34m458\u001b[39m \u001b[1mColumns: \u001b[22m\u001b[34m29\u001b[39m\n",
      "\n",
      "\u001b[36m──\u001b[39m \u001b[1mColumn specification\u001b[22m \u001b[36m─────────────────────────────────────────────────────────────────────────────────────────────────────────────────────\u001b[39m\n",
      "\u001b[1mDelimiter:\u001b[22m \",\"\n",
      "\u001b[31mchr\u001b[39m (10): row ID, Data_source, Product_category, Product_name, Fraud_complex...\n",
      "\u001b[32mdbl\u001b[39m (19): Month, Year, Trade_volume, Price_year, Or_transparency_index, Or_f...\n",
      "\n",
      "\n",
      "\u001b[36mℹ\u001b[39m Use \u001b[30m\u001b[47m\u001b[30m\u001b[47m`spec()`\u001b[47m\u001b[30m\u001b[49m\u001b[39m to retrieve the full column specification for this data.\n",
      "\u001b[36mℹ\u001b[39m Specify the column types or set \u001b[30m\u001b[47m\u001b[30m\u001b[47m`show_col_types = FALSE`\u001b[47m\u001b[30m\u001b[49m\u001b[39m to quiet this message.\n",
      "\n"
     ]
    }
   ],
   "source": [
    "Data<-read_csv(\"./data/input/newdata.csv\")\n",
    "\n",
    "Data_RASFF<-Data %>% select(Data_source,Product_category,Year,`Or_country-name`,`Ct_country-name`,Product_fraudtype) %>% \n",
    "  filter(Data_source==\"RASFF\")"
   ]
  },
  {
   "cell_type": "code",
   "execution_count": 14,
   "id": "a5d3f358",
   "metadata": {},
   "outputs": [],
   "source": [
    "Data_RASFF_EMA_new=rbind(Data_RASFF,EMA_95_row)\n",
    "\n",
    "write.csv(Data_RASFF_EMA_new,\"./data/output/Data_RASFF_EMA_new.csv\",row.names = FALSE)"
   ]
  },
  {
   "cell_type": "code",
   "execution_count": null,
   "id": "c441ce66",
   "metadata": {},
   "outputs": [],
   "source": []
  }
 ],
 "metadata": {
  "kernelspec": {
   "display_name": "R",
   "language": "R",
   "name": "ir"
  },
  "language_info": {
   "codemirror_mode": "r",
   "file_extension": ".r",
   "mimetype": "text/x-r-source",
   "name": "R",
   "pygments_lexer": "r",
   "version": "4.1.1"
  }
 },
 "nbformat": 4,
 "nbformat_minor": 5
}
